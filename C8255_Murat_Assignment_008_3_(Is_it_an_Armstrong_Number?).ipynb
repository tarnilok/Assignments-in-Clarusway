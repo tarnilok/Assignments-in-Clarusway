{
  "nbformat": 4,
  "nbformat_minor": 0,
  "metadata": {
    "colab": {
      "name": "C8255-Murat_Assignment-008/3 (Is it an Armstrong Number?).ipynb",
      "provenance": [],
      "authorship_tag": "ABX9TyN0L0k0CuYx4mHqAd7JndV6",
      "include_colab_link": true
    },
    "kernelspec": {
      "name": "python3",
      "display_name": "Python 3"
    },
    "language_info": {
      "name": "python"
    }
  },
  "cells": [
    {
      "cell_type": "markdown",
      "metadata": {
        "id": "view-in-github",
        "colab_type": "text"
      },
      "source": [
        "<a href=\"https://colab.research.google.com/github/tarnilok/Assignments-in-Clarusway/blob/main/C8255_Murat_Assignment_008_3_(Is_it_an_Armstrong_Number%3F).ipynb\" target=\"_parent\"><img src=\"https://colab.research.google.com/assets/colab-badge.svg\" alt=\"Open In Colab\"/></a>"
      ]
    },
    {
      "cell_type": "code",
      "metadata": {
        "id": "j4VRddSoFFWk"
      },
      "source": [
        "# Find out if a given number is an \"Armstrong Number\".\n",
        "\n",
        "# An n-digit number that is the sum of the nth powers of its digits is called an n-Armstrong number. Examples :\n",
        "# 371 = 33 + 73 + 13;\n",
        "# 9474 = 94 + 44 + 74 + 44;\n",
        "# 93084 = 95 + 35 + 05 + 85 + 45.\n",
        "\n",
        "# Write a Python program that;\n",
        "# takes a positive integer number from the user,\n",
        "# checks the entered number if it is Armstrong,\n",
        "# consider the negative, float and any entries other than numeric values then display a warning message to the user.\n",
        "\n",
        "# Examples\n",
        "# Sample inputs\tOutputs\n",
        "# 407\t407 is an Armstrong number\n",
        "# 5\t5 is an Armstrong number\n",
        "#  -153\t It is an invalid entry. Don't use non-numeric, float, or negative values!\n",
        "#  153.87 or 153,87\t It is an invalid entry. Don't use non-numeric, float, or negative values!\n",
        "#  one\t It is an invalid entry. Don't use non-numeric, float, or negative values!\n",
        "#  121\t 121 is not an Armstrong number"
      ],
      "execution_count": null,
      "outputs": []
    },
    {
      "cell_type": "code",
      "metadata": {
        "colab": {
          "base_uri": "https://localhost:8080/"
        },
        "id": "cSVfEw5mFcIT",
        "outputId": "c69eb53f-75c5-4396-9546-e24aa9f30a55"
      },
      "source": [
        "numb = input(\"Please enter a positive integer number: \").strip()\n",
        "while numb.isnumeric() == False :\n",
        "  print(\"It is an invalid entry. Don't use non-numeric, float, or negative values!\")\n",
        "  numb = input(\"Please enter a positive integer number: \").strip()\n",
        "sum = 0\n",
        "for i in numb :\n",
        "  sum += int(i) ** len(numb) \n",
        "if sum == int(numb) :\n",
        "  print(f\"{numb} is an Armstrong number\")\n",
        "else :\n",
        "  print(f\"{numb} is not an Armstrong number\") "
      ],
      "execution_count": 1,
      "outputs": [
        {
          "output_type": "stream",
          "text": [
            "Please enter a positive integer number: 407\n",
            "407 is an Armstrong number\n"
          ],
          "name": "stdout"
        }
      ]
    }
  ]
}