{
  "nbformat": 4,
  "nbformat_minor": 0,
  "metadata": {
    "colab": {
      "name": "C8255-Murat_Assignment-008/2(Covid-19 Risk).ipynb",
      "provenance": [],
      "authorship_tag": "ABX9TyPCPnghTdnun8qAL4D6oRx6",
      "include_colab_link": true
    },
    "kernelspec": {
      "name": "python3",
      "display_name": "Python 3"
    },
    "language_info": {
      "name": "python"
    }
  },
  "cells": [
    {
      "cell_type": "markdown",
      "metadata": {
        "id": "view-in-github",
        "colab_type": "text"
      },
      "source": [
        "<a href=\"https://colab.research.google.com/github/tarnilok/Assignments-in-Clarusway/blob/main/C8255_Murat_Assignment_008_2(Covid_19_Risk).ipynb\" target=\"_parent\"><img src=\"https://colab.research.google.com/assets/colab-badge.svg\" alt=\"Open In Colab\"/></a>"
      ]
    },
    {
      "cell_type": "code",
      "metadata": {
        "id": "7jdXQEURqiQF"
      },
      "source": [
        "# Problem :\n",
        "\n",
        "# Task : Estimating the risk of death from coronavirus. Write a program that;\n",
        "\n",
        "# Takes \"Yes\" or \"No\" from the user as an answer to the following questions :\n",
        "\n",
        "# Are you a cigarette addict older than 75 years old? Variable → age\n",
        "\n",
        "# Do you have a severe chronic disease? Variable → chronic\n",
        "\n",
        "# Is your immune system too weak? Variable → immune\n",
        "\n",
        "# Set a logical algorithm using boolean logic operators (and/or) and use if-statements with the given variables in order to print out us a message : \"You are in risky group\"(if True ) or \"You are not in risky group\" (if False).\n",
        "# age =  # can be assigned only True/False\n",
        "# chronic =  # can be assigned only True/False\n",
        "# immune =  # can be assigned only True/False\n",
        "# risk = ?"
      ],
      "execution_count": null,
      "outputs": []
    },
    {
      "cell_type": "code",
      "metadata": {
        "colab": {
          "base_uri": "https://localhost:8080/"
        },
        "id": "JM6zZapirBOI",
        "outputId": "3fc4a19c-68a6-40f1-b11c-f4f49dfd4255"
      },
      "source": [
        "print(\"!!! Please answer the questions only saying Yes or No !!!\")\n",
        "age = input(\"Are you cigarette addict older than 75 years old? : \").title().strip() == \"Yes\"\n",
        "chronic = input(\"Do you have a severe chronic disease? : \").title().strip()  == \"Yes\"\n",
        "immune = input(\"Is your immune system too weak? : \").title().strip()  == \"Yes\"\n",
        "risk = age or chronic or immune\n",
        "if risk :\n",
        "  print(\"You are in risky group\")\n",
        "else :\n",
        "  print(\"You are not in risky group\")"
      ],
      "execution_count": 8,
      "outputs": [
        {
          "output_type": "stream",
          "text": [
            "!!! Please answer the questions only saying Yes or No !!!\n",
            "Are you cigarette addict older than 75 years old? : yes\n",
            "Do you have a severe chronic disease? : yes\n",
            "Is your immune system too weak? : yes\n",
            "You are in risky group\n"
          ],
          "name": "stdout"
        }
      ]
    },
    {
      "cell_type": "code",
      "metadata": {
        "id": "h8BuxR30vhEp"
      },
      "source": [
        ""
      ],
      "execution_count": null,
      "outputs": []
    }
  ]
}