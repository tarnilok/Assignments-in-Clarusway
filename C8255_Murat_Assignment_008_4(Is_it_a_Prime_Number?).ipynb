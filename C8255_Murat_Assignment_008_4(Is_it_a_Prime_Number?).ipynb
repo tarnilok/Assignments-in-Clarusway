{
  "nbformat": 4,
  "nbformat_minor": 0,
  "metadata": {
    "colab": {
      "name": "C8255-Murat_Assignment-008/4(Is it a Prime Number?).ipynb",
      "provenance": [],
      "authorship_tag": "ABX9TyOA8WZ2sWxDNiJeajMFtzBP",
      "include_colab_link": true
    },
    "kernelspec": {
      "name": "python3",
      "display_name": "Python 3"
    },
    "language_info": {
      "name": "python"
    }
  },
  "cells": [
    {
      "cell_type": "markdown",
      "metadata": {
        "id": "view-in-github",
        "colab_type": "text"
      },
      "source": [
        "<a href=\"https://colab.research.google.com/github/tarnilok/Assignments-in-Clarusway/blob/main/C8255_Murat_Assignment_008_4(Is_it_a_Prime_Number%3F).ipynb\" target=\"_parent\"><img src=\"https://colab.research.google.com/assets/colab-badge.svg\" alt=\"Open In Colab\"/></a>"
      ]
    },
    {
      "cell_type": "code",
      "metadata": {
        "id": "kInenk-X7Ld3"
      },
      "source": [
        "# Task : Write a program that takes a number from the user and prints the result to check if it is a prime number.\n",
        "\n",
        "# The examples of the desired output are as follows :\n",
        "\n",
        "# input →  19 ⇉ output : 19 is a prime number\n",
        "# input →  10 ⇉ output : 10 is not a prime number\n"
      ],
      "execution_count": null,
      "outputs": []
    },
    {
      "cell_type": "code",
      "metadata": {
        "id": "Padib6HI7MhS"
      },
      "source": [
        "numb = int(input(\"Enter a number : \"))\n",
        "divider = []\n",
        "if numb > 1 :\n",
        "    for i in range(1,numb + 1) :\n",
        "        if numb % i == 0 :\n",
        "            divider.append(i)       \n",
        "    if len(divider) == 2 :\n",
        "        print(numb, \"is a prime number.\") \n",
        "    else :\n",
        "        print(numb, \"is not a prime number.\") \n",
        "        print(f\"{numb} can be divided to {divider}\")                      \n",
        "else :\n",
        "    print(numb, \"is not a prime number.\")  "
      ],
      "execution_count": null,
      "outputs": []
    }
  ]
}