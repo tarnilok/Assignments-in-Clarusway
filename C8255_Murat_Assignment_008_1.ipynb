{
  "nbformat": 4,
  "nbformat_minor": 0,
  "metadata": {
    "colab": {
      "name": "C8255-Murat_Assignment-008/1.ipynb",
      "provenance": [],
      "authorship_tag": "ABX9TyPGLGsEzfbt2Mk9u68vvXDS",
      "include_colab_link": true
    },
    "kernelspec": {
      "name": "python3",
      "display_name": "Python 3"
    },
    "language_info": {
      "name": "python"
    }
  },
  "cells": [
    {
      "cell_type": "markdown",
      "metadata": {
        "id": "view-in-github",
        "colab_type": "text"
      },
      "source": [
        "<a href=\"https://colab.research.google.com/github/tarnilok/Assignments-in-Clarusway/blob/main/C8255_Murat_Assignment_008_1.ipynb\" target=\"_parent\"><img src=\"https://colab.research.google.com/assets/colab-badge.svg\" alt=\"Open In Colab\"/></a>"
      ]
    },
    {
      "cell_type": "code",
      "metadata": {
        "id": "tidN0ioUhgSA"
      },
      "source": [
        "# Task : Let's say; you left a message in the past that prints a password you need. To see the password you wrote, you need to enter your name and the program should recognize you.\n",
        "# Write a program that \n",
        "\n",
        "# Takes the first name from the user and compares it to yours,\n",
        "# Then if the name the user entered is the same as yours, print out such as : \"Hello, Joseph! The password is : W@12\",\n",
        "# If the name the user entered is not the same as yours, print out such as : \"Hello, Amina! See you later.\""
      ],
      "execution_count": null,
      "outputs": []
    },
    {
      "cell_type": "code",
      "metadata": {
        "id": "3zudw0ghkiB-"
      },
      "source": [
        "name = input(\"Please enter your first name : \").title().strip()\n",
        "if name == \"Defne\" :\n",
        "  print(f\"Hello, {name}! The password is : 12345\")\n",
        "else :\n",
        "  print(\"Hello, {}! See you later.\".format(name)) "
      ],
      "execution_count": null,
      "outputs": []
    }
  ]
}